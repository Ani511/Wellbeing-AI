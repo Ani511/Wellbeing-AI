{
 "cells": [
  {
   "cell_type": "markdown",
   "id": "6de4c102-fcdf-4515-a715-9772584a3680",
   "metadata": {},
   "source": [
    "# 04_LLM_Recommender.ipynb\n",
    "🤖 Personalized Health Recommendations Using LLM Logic and Risk Drivers\n",
    "## Introduction\n",
    "This notebook bridges the gap between model explainability and actionable feedback by generating personalized health recommendations based on each individual's top risk drivers and predicted health risk score.\n",
    "\n",
    "We use:\n",
    "- The top 3 LIME-extracted drivers per individual (from the previous notebook)\n",
    "- Their Health Risk Score (0–100)\n",
    "- A logic-driven recommender function that simulates the behavior of an LLM by crafting empathetic, non-judgmental advice based on each feature\n",
    "\n",
    "The recommendations aim to:\n",
    "- Encourage self-awareness and gentle behavior change\n",
    "- Be context-aware based on socio-demographic signals\n",
    "- Reflect a supportive, human-centered tone to foster engagement\n",
    "\n",
    "The final output is a structured CSV containing risk drivers, health scores, and the generated advice — suitable for integration into dashboards, portals, or counseling tools."
   ]
  },
  {
   "cell_type": "code",
   "execution_count": 6,
   "id": "3866376f-13ee-4c2e-8aab-8188d4c7ffb0",
   "metadata": {},
   "outputs": [],
   "source": [
    "# 04_LLM_Recommender.ipynb\n",
    "# Personalized Health Recommendations Using LLMs (based on risk drivers)\n",
    "\n",
    "import pandas as pd\n",
    "import time\n",
    "import os"
   ]
  },
  {
   "cell_type": "code",
   "execution_count": 7,
   "id": "4e80b0fa-b142-4e84-b881-8f8d8508bef5",
   "metadata": {},
   "outputs": [
    {
     "name": "stdout",
     "output_type": "stream",
     "text": [
      "Merged shape: (100, 5)\n"
     ]
    }
   ],
   "source": [
    "# ---------------------- # 1. Load LIME Top Drivers\n",
    "lime_df = pd.read_csv(\"outputs/lime_top3_drivers_batch.csv\")\n",
    "scores_df = pd.read_csv(\"data/health_scores_scored_testset.csv\")\n",
    "\n",
    "merged = lime_df.merge(scores_df[['Health_Risk_Score']], left_on='Index', right_index=True)\n",
    "print(\"Merged shape:\", merged.shape)\n"
   ]
  },
  {
   "cell_type": "code",
   "execution_count": 11,
   "id": "037eb35a-8803-4850-9cb7-0d3f38f8d2e1",
   "metadata": {},
   "outputs": [],
   "source": [
    "def recommend(drivers, risk_score):\n",
    "    advice = []\n",
    "\n",
    "    drivers = [str(d).lower() for d in drivers if pd.notna(d)]\n",
    "\n",
    "    if any(\"bmi\" in d for d in drivers):\n",
    "        advice.append(\"Your body does so much for you every day. Let’s gently care for it through nourishing meals and joyful movement, at your own pace. Your body deserves kindness and patience.\")\n",
    "\n",
    "    if any(\"totinda\" in d or \"inactive\" in d for d in drivers):\n",
    "        advice.append(\"Even a short 10 mins walk or stretching session can uplift your mind and body. Movement doesn’t have to be intense to be meaningful.\")\n",
    "\n",
    "    if any(\"diabete\" in d for d in drivers):\n",
    "        advice.append(\"Blood sugar management is a journey. Your health journey is valid. Consider small, steady changes—more fiber, less sugar, and check-ins with your doctor when you can.\")\n",
    "\n",
    "    if any(\"income2\" in d or \"income\" in d for d in drivers):\n",
    "        advice.append(\"You’re doing your best in your circumstances. Your health matters, no matter your budget. Explore free or affordable community health options—they’re made for support like this.\")\n",
    "\n",
    "    if any(\"educa\" in d or \"education\" in d for d in drivers):\n",
    "        advice.append(\"Curiosity is a strength. A little learning—through videos, articles, or local health talks—can open big doors for wellbeing.\")\n",
    "\n",
    "    if any(\"smoker\" in d for d in drivers):\n",
    "        advice.append(\"There’s no shame in where you are. If you’re considering cutting back on smoking, know that every small step is a win.\")\n",
    "\n",
    "    if any(\"genhlth\" in d or \"general health\" in d for d in drivers):\n",
    "        advice.append(\"Your wellbeing matters deeply. Make space for rest, hydration, and little routines that bring you peace.\")\n",
    "\n",
    "    if any(\"employ1\" in d or \"employment\" in d for d in drivers):\n",
    "        advice.append(\"Work stress can be heavy. If you feel stretched, take even a few minutes each day just for you—your energy deserves recharging.\")\n",
    "\n",
    "    if any(\"age\" in d and \"<=\" in d for d in drivers):\n",
    "        advice.append(\"Starting young is a gift to your future self. These healthy habits you build now will carry you far.\")\n",
    "\n",
    "    # Add-on based on Risk Score\n",
    "    if risk_score > 80:\n",
    "        advice.append(\"It’s okay to be concerned. Your score suggests higher risk—this is a gentle nudge to consider a health check-up soon. You deserve care.\")\n",
    "\n",
    "    elif risk_score < 25:\n",
    "        advice.append(\"You're doing beautifully. Keep honoring your body and mind with the care they deserve.\")\n",
    "\n",
    "    if not advice:\n",
    "        advice.append(\"You’re on the right path. Be gentle with yourself, and keep walking at your pace—you’re doing better than you think.\")\n",
    "\n",
    "    return \" \".join(advice)\n"
   ]
  },
  {
   "cell_type": "code",
   "execution_count": 12,
   "id": "83667782-6917-4ec1-81fe-a3b0890bbed9",
   "metadata": {},
   "outputs": [
    {
     "name": "stdout",
     "output_type": "stream",
     "text": [
      "✅ Saved to outputs/personalized_health_recommendations.csv\n"
     ]
    }
   ],
   "source": [
    "# ---------------------- # 3. Generate Recommendations\n",
    "recommendations = []\n",
    "\n",
    "for _, row in merged.iterrows():\n",
    "    drivers = [row['Top_1'], row['Top_2'], row['Top_3']]\n",
    "    risk_score = row['Health_Risk_Score']\n",
    "    rec = recommend(drivers, risk_score)\n",
    "\n",
    "    recommendations.append({\n",
    "        \"Index\": row['Index'],\n",
    "        \"Top_1\": row['Top_1'],\n",
    "        \"Top_2\": row['Top_2'],\n",
    "        \"Top_3\": row['Top_3'],\n",
    "        \"Health_Risk_Score\": round(risk_score, 2),\n",
    "        \"Recommendation\": rec\n",
    "    })\n",
    "\n",
    "rec_df = pd.DataFrame(recommendations)\n",
    "os.makedirs(\"outputs\", exist_ok=True)\n",
    "rec_df.to_csv(\"outputs/personalized_health_recommendations.csv\", index=False)\n",
    "print(\"✅ Saved to outputs/personalized_health_recommendations.csv\")"
   ]
  },
  {
   "cell_type": "markdown",
   "id": "c457567e-f780-4971-ad4e-9839f6758d67",
   "metadata": {},
   "source": [
    "## Conclusion: Empathy-Driven, Feature-Aware Recommendations\n",
    "This final step of the pipeline translates analytical outputs into human-friendly guidance using personalized logic chains inspired by LLM-style reasoning. Key outcomes:\n",
    "\n",
    "- Crafted nuanced, condition-aware health tips tailored to risk factors like inactivity, education, general health, employment, and income\n",
    "- Incorporated health risk severity using the score to modulate tone — from reassurance to stronger nudges for care\n",
    "- Exported a CSV with 100 personalized recommendations for easy downstream use in web apps, reports, or health portals\n",
    "\n",
    "This recommendation module adds interpretability, empathy, and actionability to the health risk pipeline — a critical step in turning data into meaningful change."
   ]
  }
 ],
 "metadata": {
  "kernelspec": {
   "display_name": "Python 3 (ipykernel)",
   "language": "python",
   "name": "python3"
  },
  "language_info": {
   "codemirror_mode": {
    "name": "ipython",
    "version": 3
   },
   "file_extension": ".py",
   "mimetype": "text/x-python",
   "name": "python",
   "nbconvert_exporter": "python",
   "pygments_lexer": "ipython3",
   "version": "3.10.9"
  }
 },
 "nbformat": 4,
 "nbformat_minor": 5
}
